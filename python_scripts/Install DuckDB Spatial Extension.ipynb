{
 "cells": [
  {
   "cell_type": "code",
   "execution_count": 4,
   "id": "68071463",
   "metadata": {},
   "outputs": [
    {
     "ename": "CatalogException",
     "evalue": "Catalog Error: Scalar Function with name spatial_version does not exist!\nDid you mean \"version\"?\nLINE 1: SELECT spatial_version()\n               ^",
     "output_type": "error",
     "traceback": [
      "\u001b[1;31m---------------------------------------------------------------------------\u001b[0m",
      "\u001b[1;31mCatalogException\u001b[0m                          Traceback (most recent call last)",
      "Cell \u001b[1;32mIn[4], line 11\u001b[0m\n\u001b[0;32m      8\u001b[0m con\u001b[38;5;241m.\u001b[39mexecute(\u001b[38;5;124m\"\u001b[39m\u001b[38;5;124mLOAD spatial\u001b[39m\u001b[38;5;124m\"\u001b[39m)\n\u001b[0;32m     10\u001b[0m \u001b[38;5;66;03m# Verify the spatial extension is loaded\u001b[39;00m\n\u001b[1;32m---> 11\u001b[0m \u001b[38;5;28mprint\u001b[39m(\u001b[43mcon\u001b[49m\u001b[38;5;241;43m.\u001b[39;49m\u001b[43mexecute\u001b[49m\u001b[43m(\u001b[49m\u001b[38;5;124;43m\"\u001b[39;49m\u001b[38;5;124;43mSELECT spatial_version()\u001b[39;49m\u001b[38;5;124;43m\"\u001b[39;49m\u001b[43m)\u001b[49m\u001b[38;5;241m.\u001b[39mfetchall())\n",
      "\u001b[1;31mCatalogException\u001b[0m: Catalog Error: Scalar Function with name spatial_version does not exist!\nDid you mean \"version\"?\nLINE 1: SELECT spatial_version()\n               ^"
     ]
    }
   ],
   "source": [
    "import duckdb\n",
    "\n",
    "# Connect to DuckDB (in-memory or to a specific database file)\n",
    "con = duckdb.connect(database='path_to_your_database_file.duckdb')\n",
    "\n",
    "# Install and load the spatial extension\n",
    "con.execute(\"INSTALL spatial\")\n",
    "con.execute(\"LOAD spatial\")\n",
    "\n",
    "# Verify the spatial extension is loaded\n",
    "print(con.execute(\"SELECT spatial_version()\").fetchall())\n"
   ]
  },
  {
   "cell_type": "code",
   "execution_count": null,
   "id": "3ee68848",
   "metadata": {},
   "outputs": [],
   "source": []
  }
 ],
 "metadata": {
  "kernelspec": {
   "display_name": "Python 3 (ipykernel)",
   "language": "python",
   "name": "python3"
  },
  "language_info": {
   "codemirror_mode": {
    "name": "ipython",
    "version": 3
   },
   "file_extension": ".py",
   "mimetype": "text/x-python",
   "name": "python",
   "nbconvert_exporter": "python",
   "pygments_lexer": "ipython3",
   "version": "3.10.9"
  }
 },
 "nbformat": 4,
 "nbformat_minor": 5
}
